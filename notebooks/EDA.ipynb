{
 "cells": [
  {
   "cell_type": "markdown",
   "id": "6a9f5e8e",
   "metadata": {},
   "source": [
    "##  Problem statement.\n",
    "\n",
    "Cryptocurrency markets are highly volatile, and liquidity plays a crucial role in market stability. Liquidity refers to\n",
    "the ease with which assets can be bought or sold without significantly impacting the price. A lack of liquidity\n",
    "can lead to increased price fluctuations and market instability.\n",
    "\n",
    "\n",
    "In this project, you are required to build a machine learning model to predict cryptocurrency liquidity levels\n",
    "based on various market factors such as trading volume, transaction patterns, exchange listings, and social\n",
    "media activity. The objective is to detect liquidity crises early to help traders and exchange platforms\n",
    "manage risks effectively.\n",
    "\n",
    "\n",
    "Your final model should provide insights into market stability by forecasting liquidity variations, allowing\n",
    "traders and financial institutions to make informed decisions."
   ]
  },
  {
   "cell_type": "markdown",
   "id": "0616adb5",
   "metadata": {},
   "source": [
    "## 1. Data Collection\n",
    "\n",
    "You will use a dataset that includes historical cryptocurrency price and trading volume data from below link.\n",
    "The dataset consists of records from 2016 and 2017.\n",
    "\n",
    "Dataset : - https://drive.google.com/drive/folders/10BRgPip2Zj_56is3DilJCowjfyT6E9AM"
   ]
  },
  {
   "cell_type": "markdown",
   "id": "6d1f1ca5",
   "metadata": {},
   "source": [
    "### 2.1 Import Data and Required Packages\n",
    "\n",
    "**Importing Pandas, Numpy, Matplotlib, Seaborn and Warings Library.**\n"
   ]
  },
  {
   "cell_type": "code",
   "execution_count": 3,
   "id": "2e9c549e",
   "metadata": {},
   "outputs": [],
   "source": [
    "import pandas as pd\n",
    "import numpy as np\n",
    "import matplotlib.pyplot as plt\n",
    "import datetime as dt\n",
    "import seaborn as sns\n",
    "import plotly.express as px\n",
    "\n",
    "import warnings\n",
    "warnings.filterwarnings(\"ignore\")\n"
   ]
  },
  {
   "cell_type": "markdown",
   "id": "e9b0754b",
   "metadata": {},
   "source": [
    "**Import the CSV Data as Pandas DataFrame**"
   ]
  },
  {
   "cell_type": "code",
   "execution_count": 4,
   "id": "a82cadb0",
   "metadata": {},
   "outputs": [],
   "source": [
    "# Load the CSV files\n",
    "\n",
    "df_1 = pd.read_csv(\"coin_gecko_2022-03-16.csv\")\n",
    "df_2 = pd.read_csv(\"coin_gecko_2022-03-17.csv\")\n"
   ]
  },
  {
   "cell_type": "code",
   "execution_count": 5,
   "id": "dda0c1ea",
   "metadata": {},
   "outputs": [],
   "source": [
    "# Join (concatenate) the dataframes vertically\n",
    "combined_df = pd.concat([df_1, df_2], ignore_index=True)\n",
    "\n",
    "# Save the result to a new CSV\n",
    "combined_df.to_csv('combined_coin_gecko.csv', index=False)"
   ]
  },
  {
   "cell_type": "code",
   "execution_count": 6,
   "id": "0e289f43",
   "metadata": {},
   "outputs": [],
   "source": [
    "df = combined_df"
   ]
  },
  {
   "cell_type": "code",
   "execution_count": 7,
   "id": "1da0d243",
   "metadata": {},
   "outputs": [
    {
     "data": {
      "text/html": [
       "<div>\n",
       "<style scoped>\n",
       "    .dataframe tbody tr th:only-of-type {\n",
       "        vertical-align: middle;\n",
       "    }\n",
       "\n",
       "    .dataframe tbody tr th {\n",
       "        vertical-align: top;\n",
       "    }\n",
       "\n",
       "    .dataframe thead th {\n",
       "        text-align: right;\n",
       "    }\n",
       "</style>\n",
       "<table border=\"1\" class=\"dataframe\">\n",
       "  <thead>\n",
       "    <tr style=\"text-align: right;\">\n",
       "      <th></th>\n",
       "      <th>coin</th>\n",
       "      <th>symbol</th>\n",
       "      <th>price</th>\n",
       "      <th>1h</th>\n",
       "      <th>24h</th>\n",
       "      <th>7d</th>\n",
       "      <th>24h_volume</th>\n",
       "      <th>mkt_cap</th>\n",
       "      <th>date</th>\n",
       "    </tr>\n",
       "  </thead>\n",
       "  <tbody>\n",
       "    <tr>\n",
       "      <th>0</th>\n",
       "      <td>Bitcoin</td>\n",
       "      <td>BTC</td>\n",
       "      <td>40859.460000</td>\n",
       "      <td>0.022</td>\n",
       "      <td>0.030</td>\n",
       "      <td>0.055</td>\n",
       "      <td>3.539076e+10</td>\n",
       "      <td>7.709915e+11</td>\n",
       "      <td>2022-03-16</td>\n",
       "    </tr>\n",
       "    <tr>\n",
       "      <th>1</th>\n",
       "      <td>Ethereum</td>\n",
       "      <td>ETH</td>\n",
       "      <td>2744.410000</td>\n",
       "      <td>0.024</td>\n",
       "      <td>0.034</td>\n",
       "      <td>0.065</td>\n",
       "      <td>1.974870e+10</td>\n",
       "      <td>3.271044e+11</td>\n",
       "      <td>2022-03-16</td>\n",
       "    </tr>\n",
       "    <tr>\n",
       "      <th>2</th>\n",
       "      <td>Tether</td>\n",
       "      <td>USDT</td>\n",
       "      <td>1.000000</td>\n",
       "      <td>-0.001</td>\n",
       "      <td>-0.001</td>\n",
       "      <td>0.000</td>\n",
       "      <td>5.793497e+10</td>\n",
       "      <td>7.996516e+10</td>\n",
       "      <td>2022-03-16</td>\n",
       "    </tr>\n",
       "    <tr>\n",
       "      <th>3</th>\n",
       "      <td>BNB</td>\n",
       "      <td>BNB</td>\n",
       "      <td>383.430000</td>\n",
       "      <td>0.018</td>\n",
       "      <td>0.028</td>\n",
       "      <td>0.004</td>\n",
       "      <td>1.395854e+09</td>\n",
       "      <td>6.404382e+10</td>\n",
       "      <td>2022-03-16</td>\n",
       "    </tr>\n",
       "    <tr>\n",
       "      <th>4</th>\n",
       "      <td>USD Coin</td>\n",
       "      <td>USDC</td>\n",
       "      <td>0.999874</td>\n",
       "      <td>-0.001</td>\n",
       "      <td>0.000</td>\n",
       "      <td>-0.000</td>\n",
       "      <td>3.872274e+09</td>\n",
       "      <td>5.222214e+10</td>\n",
       "      <td>2022-03-16</td>\n",
       "    </tr>\n",
       "  </tbody>\n",
       "</table>\n",
       "</div>"
      ],
      "text/plain": [
       "       coin symbol         price     1h    24h     7d    24h_volume  \\\n",
       "0   Bitcoin    BTC  40859.460000  0.022  0.030  0.055  3.539076e+10   \n",
       "1  Ethereum    ETH   2744.410000  0.024  0.034  0.065  1.974870e+10   \n",
       "2    Tether   USDT      1.000000 -0.001 -0.001  0.000  5.793497e+10   \n",
       "3       BNB    BNB    383.430000  0.018  0.028  0.004  1.395854e+09   \n",
       "4  USD Coin   USDC      0.999874 -0.001  0.000 -0.000  3.872274e+09   \n",
       "\n",
       "        mkt_cap        date  \n",
       "0  7.709915e+11  2022-03-16  \n",
       "1  3.271044e+11  2022-03-16  \n",
       "2  7.996516e+10  2022-03-16  \n",
       "3  6.404382e+10  2022-03-16  \n",
       "4  5.222214e+10  2022-03-16  "
      ]
     },
     "execution_count": 7,
     "metadata": {},
     "output_type": "execute_result"
    }
   ],
   "source": [
    "df.head() # Show Top 5 Records"
   ]
  },
  {
   "cell_type": "code",
   "execution_count": 8,
   "id": "4ee507f6",
   "metadata": {},
   "outputs": [
    {
     "name": "stdout",
     "output_type": "stream",
     "text": [
      "<class 'pandas.core.frame.DataFrame'>\n",
      "RangeIndex: 1000 entries, 0 to 999\n",
      "Data columns (total 9 columns):\n",
      " #   Column      Non-Null Count  Dtype  \n",
      "---  ------      --------------  -----  \n",
      " 0   coin        1000 non-null   object \n",
      " 1   symbol      1000 non-null   object \n",
      " 2   price       1000 non-null   float64\n",
      " 3   1h          993 non-null    float64\n",
      " 4   24h         993 non-null    float64\n",
      " 5   7d          992 non-null    float64\n",
      " 6   24h_volume  993 non-null    float64\n",
      " 7   mkt_cap     1000 non-null   float64\n",
      " 8   date        1000 non-null   object \n",
      "dtypes: float64(6), object(3)\n",
      "memory usage: 70.4+ KB\n"
     ]
    }
   ],
   "source": [
    "df.info()"
   ]
  },
  {
   "cell_type": "code",
   "execution_count": 9,
   "id": "431e7379",
   "metadata": {},
   "outputs": [
    {
     "data": {
      "text/plain": [
       "coin           object\n",
       "symbol         object\n",
       "price         float64\n",
       "1h            float64\n",
       "24h           float64\n",
       "7d            float64\n",
       "24h_volume    float64\n",
       "mkt_cap       float64\n",
       "date           object\n",
       "dtype: object"
      ]
     },
     "execution_count": 9,
     "metadata": {},
     "output_type": "execute_result"
    }
   ],
   "source": [
    "df.dtypes"
   ]
  },
  {
   "cell_type": "code",
   "execution_count": 10,
   "id": "b8a3da97",
   "metadata": {},
   "outputs": [
    {
     "data": {
      "text/html": [
       "<div>\n",
       "<style scoped>\n",
       "    .dataframe tbody tr th:only-of-type {\n",
       "        vertical-align: middle;\n",
       "    }\n",
       "\n",
       "    .dataframe tbody tr th {\n",
       "        vertical-align: top;\n",
       "    }\n",
       "\n",
       "    .dataframe thead th {\n",
       "        text-align: right;\n",
       "    }\n",
       "</style>\n",
       "<table border=\"1\" class=\"dataframe\">\n",
       "  <thead>\n",
       "    <tr style=\"text-align: right;\">\n",
       "      <th></th>\n",
       "      <th>price</th>\n",
       "      <th>1h</th>\n",
       "      <th>24h</th>\n",
       "      <th>7d</th>\n",
       "      <th>24h_volume</th>\n",
       "      <th>mkt_cap</th>\n",
       "    </tr>\n",
       "  </thead>\n",
       "  <tbody>\n",
       "    <tr>\n",
       "      <th>count</th>\n",
       "      <td>1.000000e+03</td>\n",
       "      <td>993.000000</td>\n",
       "      <td>993.000000</td>\n",
       "      <td>992.000000</td>\n",
       "      <td>9.930000e+02</td>\n",
       "      <td>1.000000e+03</td>\n",
       "    </tr>\n",
       "    <tr>\n",
       "      <th>mean</th>\n",
       "      <td>6.561060e+02</td>\n",
       "      <td>0.009723</td>\n",
       "      <td>0.023737</td>\n",
       "      <td>0.023558</td>\n",
       "      <td>2.893109e+08</td>\n",
       "      <td>3.755304e+09</td>\n",
       "    </tr>\n",
       "    <tr>\n",
       "      <th>std</th>\n",
       "      <td>4.584655e+03</td>\n",
       "      <td>0.026934</td>\n",
       "      <td>0.059303</td>\n",
       "      <td>0.229781</td>\n",
       "      <td>2.769908e+09</td>\n",
       "      <td>3.803783e+10</td>\n",
       "    </tr>\n",
       "    <tr>\n",
       "      <th>min</th>\n",
       "      <td>1.484000e-09</td>\n",
       "      <td>-0.704000</td>\n",
       "      <td>-0.646000</td>\n",
       "      <td>-0.558000</td>\n",
       "      <td>0.000000e+00</td>\n",
       "      <td>6.577043e+07</td>\n",
       "    </tr>\n",
       "    <tr>\n",
       "      <th>25%</th>\n",
       "      <td>1.940547e-01</td>\n",
       "      <td>0.001000</td>\n",
       "      <td>0.001000</td>\n",
       "      <td>-0.041000</td>\n",
       "      <td>1.766976e+06</td>\n",
       "      <td>1.157776e+08</td>\n",
       "    </tr>\n",
       "    <tr>\n",
       "      <th>50%</th>\n",
       "      <td>1.095000e+00</td>\n",
       "      <td>0.006000</td>\n",
       "      <td>0.016000</td>\n",
       "      <td>-0.000500</td>\n",
       "      <td>8.343005e+06</td>\n",
       "      <td>2.120036e+08</td>\n",
       "    </tr>\n",
       "    <tr>\n",
       "      <th>75%</th>\n",
       "      <td>7.232500e+00</td>\n",
       "      <td>0.019000</td>\n",
       "      <td>0.035000</td>\n",
       "      <td>0.037000</td>\n",
       "      <td>4.003652e+07</td>\n",
       "      <td>5.948436e+08</td>\n",
       "    </tr>\n",
       "    <tr>\n",
       "      <th>max</th>\n",
       "      <td>4.121727e+04</td>\n",
       "      <td>0.095000</td>\n",
       "      <td>0.577000</td>\n",
       "      <td>4.608000</td>\n",
       "      <td>5.793497e+10</td>\n",
       "      <td>7.760774e+11</td>\n",
       "    </tr>\n",
       "  </tbody>\n",
       "</table>\n",
       "</div>"
      ],
      "text/plain": [
       "              price          1h         24h          7d    24h_volume  \\\n",
       "count  1.000000e+03  993.000000  993.000000  992.000000  9.930000e+02   \n",
       "mean   6.561060e+02    0.009723    0.023737    0.023558  2.893109e+08   \n",
       "std    4.584655e+03    0.026934    0.059303    0.229781  2.769908e+09   \n",
       "min    1.484000e-09   -0.704000   -0.646000   -0.558000  0.000000e+00   \n",
       "25%    1.940547e-01    0.001000    0.001000   -0.041000  1.766976e+06   \n",
       "50%    1.095000e+00    0.006000    0.016000   -0.000500  8.343005e+06   \n",
       "75%    7.232500e+00    0.019000    0.035000    0.037000  4.003652e+07   \n",
       "max    4.121727e+04    0.095000    0.577000    4.608000  5.793497e+10   \n",
       "\n",
       "            mkt_cap  \n",
       "count  1.000000e+03  \n",
       "mean   3.755304e+09  \n",
       "std    3.803783e+10  \n",
       "min    6.577043e+07  \n",
       "25%    1.157776e+08  \n",
       "50%    2.120036e+08  \n",
       "75%    5.948436e+08  \n",
       "max    7.760774e+11  "
      ]
     },
     "execution_count": 10,
     "metadata": {},
     "output_type": "execute_result"
    }
   ],
   "source": [
    "# Display summary statistics for a dataframe\n",
    "df.describe()"
   ]
  },
  {
   "cell_type": "code",
   "execution_count": 11,
   "id": "1a3a42c6",
   "metadata": {},
   "outputs": [
    {
     "data": {
      "text/plain": [
       "(1000, 9)"
      ]
     },
     "execution_count": 11,
     "metadata": {},
     "output_type": "execute_result"
    }
   ],
   "source": [
    "df.shape # shap of dataset"
   ]
  },
  {
   "cell_type": "code",
   "execution_count": 12,
   "id": "4e00a905",
   "metadata": {},
   "outputs": [
    {
     "data": {
      "text/plain": [
       "coin          0\n",
       "symbol        0\n",
       "price         0\n",
       "1h            7\n",
       "24h           7\n",
       "7d            8\n",
       "24h_volume    7\n",
       "mkt_cap       0\n",
       "date          0\n",
       "dtype: int64"
      ]
     },
     "execution_count": 12,
     "metadata": {},
     "output_type": "execute_result"
    }
   ],
   "source": [
    "df.isnull().sum() # check for null (missing) values"
   ]
  },
  {
   "cell_type": "markdown",
   "id": "acff0123",
   "metadata": {},
   "source": [
    "## . EXPLORING DATA\n"
   ]
  },
  {
   "cell_type": "markdown",
   "id": "074c346c",
   "metadata": {},
   "source": [
    "**Let's convert the datetime column to pandas datetime format**\n"
   ]
  },
  {
   "cell_type": "code",
   "execution_count": 13,
   "id": "d92f3bdd",
   "metadata": {},
   "outputs": [
    {
     "data": {
      "text/plain": [
       "0     2022-03-16\n",
       "1     2022-03-16\n",
       "2     2022-03-16\n",
       "3     2022-03-16\n",
       "4     2022-03-16\n",
       "         ...    \n",
       "995   2022-03-17\n",
       "996   2022-03-17\n",
       "997   2022-03-17\n",
       "998   2022-03-17\n",
       "999   2022-03-17\n",
       "Name: date, Length: 1000, dtype: datetime64[ns]"
      ]
     },
     "execution_count": 13,
     "metadata": {},
     "output_type": "execute_result"
    }
   ],
   "source": [
    "df['date'] = pd.to_datetime(df['date'], format=\"%Y-%m-%d\")\n",
    "df[\"date\"]"
   ]
  },
  {
   "cell_type": "code",
   "execution_count": 14,
   "id": "2c196d54",
   "metadata": {},
   "outputs": [
    {
     "data": {
      "text/plain": [
       "Index(['coin', 'symbol', 'price', '1h', '24h', '7d', '24h_volume', 'mkt_cap',\n",
       "       'date'],\n",
       "      dtype='object')"
      ]
     },
     "execution_count": 14,
     "metadata": {},
     "output_type": "execute_result"
    }
   ],
   "source": [
    "df.columns"
   ]
  },
  {
   "cell_type": "code",
   "execution_count": 15,
   "id": "8a0c7a14",
   "metadata": {},
   "outputs": [
    {
     "name": "stdout",
     "output_type": "stream",
     "text": [
      "We have 7 numerical features : ['price', '1h', '24h', '7d', '24h_volume', 'mkt_cap', 'date']\n",
      "\n",
      "We have 2 categorical features : ['coin', 'symbol']\n"
     ]
    }
   ],
   "source": [
    "# define numerical & categorical columns\n",
    "\n",
    "numeric_features = [feature for feature in df.columns if df[feature].dtype != 'O']\n",
    "categorical_features = [feature for feature in df.columns if df[feature].dtype == 'O']\n",
    "\n",
    "# print columns\n",
    "print('We have {} numerical features : {}'.format(len(numeric_features), numeric_features))\n",
    "print('\\nWe have {} categorical features : {}'.format(len(categorical_features), categorical_features))"
   ]
  },
  {
   "cell_type": "markdown",
   "id": "e9d0fdcc",
   "metadata": {},
   "source": [
    "### Feature Information\n",
    "\n",
    "- **numerical features**\n",
    "\n",
    "    - **price :** The current market price of one unit of the cryptocurrency in USD (or another base currency).\n",
    "    - **1h :** The\tPercentage price change over the last 1 hour. Positive values mean the price went up, negative values mean it went down.\n",
    "    - **24h :** The\tPercentage price change over the last 24 hours.\n",
    "    - **7d :** The\tPercentage price change over the last 7 days.\n",
    "    - **24h_volume :** The\tTotal traded volume (in USD or equivalent) over the last 24 hours. A measure of how much trading activity there was.\n",
    "    - **mkt_cap :** The\tMarket capitalization — the total market value of all coins currently in circulation. Typically price × circulating supply.\n",
    "\n",
    "- **categorical features**\n",
    "\n",
    "    - **date :** The\tThe date when the data was recorded or captured.\n",
    "    - **coin :** The\tThe name of the cryptocurrency (e.g., Bitcoin, Ethereum).\n",
    "    - **symbol :** The ticker symbol or shorthand for the coin (e.g., BTC, ETH)."
   ]
  },
  {
   "cell_type": "code",
   "execution_count": 16,
   "id": "462ad194",
   "metadata": {},
   "outputs": [
    {
     "name": "stdout",
     "output_type": "stream",
     "text": [
      "coin\n",
      "Bitcoin         0.2\n",
      "Prometeus       0.2\n",
      "Bezoge Earth    0.2\n",
      "flexUSD         0.2\n",
      "Hxro            0.2\n",
      "               ... \n",
      "Kin             0.1\n",
      "EverRise        0.1\n",
      "OpenDAO         0.1\n",
      "ThunderCore     0.1\n",
      "Verus Coin      0.1\n",
      "Name: proportion, Length: 506, dtype: float64\n",
      "---------------------------\n",
      "symbol\n",
      "TIME     0.4\n",
      "RUNE     0.4\n",
      "FEG      0.4\n",
      "BTC      0.2\n",
      "STARL    0.2\n",
      "        ... \n",
      "RISE     0.1\n",
      "TREEB    0.1\n",
      "SOS      0.1\n",
      "TT       0.1\n",
      "VRSC     0.1\n",
      "Name: proportion, Length: 503, dtype: float64\n",
      "---------------------------\n"
     ]
    }
   ],
   "source": [
    "# proportion of count data on categorical columns\n",
    "\n",
    "for col in categorical_features:\n",
    "    print(df[col].value_counts(normalize=True) * 100)\n",
    "    print('---------------------------')"
   ]
  },
  {
   "cell_type": "markdown",
   "id": "ba27f39b",
   "metadata": {},
   "source": [
    "### Numerical Features\n"
   ]
  },
  {
   "cell_type": "code",
   "execution_count": 17,
   "id": "32e85eec",
   "metadata": {},
   "outputs": [
    {
     "data": {
      "image/png": "[encoded data removed]",
      "text/plain": [
       "<Figure size 1500x1000 with 7 Axes>"
      ]
     },
     "metadata": {},
     "output_type": "display_data"
    }
   ],
   "source": [
    "\n",
    "plt.figure(figsize=(15, 10))\n",
    "plt.suptitle('Univariate Analysis of Numerical Features', fontsize=20, fontweight='bold', alpha=0.8, y=1.)\n",
    "\n",
    "for i in range(0, len(numeric_features)):\n",
    "    plt.subplot(7, 4, i+1)\n",
    "    sns.kdeplot(x=df[numeric_features[i]], color='blue')\n",
    "    plt.xlabel(numeric_features[i])\n",
    "    plt.tight_layout()"
   ]
  },
  {
   "cell_type": "markdown",
   "id": "088da517",
   "metadata": {},
   "source": [
    "*Report of the univariate analytis*\n",
    "1. `price` is left-skewed, most of the values falls in 0 to 10000 range and has outliers.\n",
    "2. `1h` is right-skewed, most of the values falls in -0.1 to 1.0  range and has outliers.\n",
    "3. `24h` are following a normal distribution\n",
    "4. `7d ` has constant values. Most of the values seems to be -1 or 1 .\n",
    "5. `24h_volume , mkt_cap `  is lift-skewed, most of the values falls in -0.1 to 1.0  range and has outliers.\n",
    "6. ` data `  has constant values. Most of the values seems to be 2016 or 2017 ."
   ]
  },
  {
   "cell_type": "markdown",
   "id": "eee2584e",
   "metadata": {},
   "source": [
    "## categorical columns\n"
   ]
  },
  {
   "cell_type": "code",
   "execution_count": 18,
   "id": "40ebef42",
   "metadata": {},
   "outputs": [
    {
     "data": {
      "text/html": [
       "<div>\n",
       "<style scoped>\n",
       "    .dataframe tbody tr th:only-of-type {\n",
       "        vertical-align: middle;\n",
       "    }\n",
       "\n",
       "    .dataframe tbody tr th {\n",
       "        vertical-align: top;\n",
       "    }\n",
       "\n",
       "    .dataframe thead th {\n",
       "        text-align: right;\n",
       "    }\n",
       "</style>\n",
       "<table border=\"1\" class=\"dataframe\">\n",
       "  <thead>\n",
       "    <tr style=\"text-align: right;\">\n",
       "      <th></th>\n",
       "      <th>coin</th>\n",
       "      <th>symbol</th>\n",
       "      <th>price</th>\n",
       "      <th>1h</th>\n",
       "      <th>24h</th>\n",
       "      <th>7d</th>\n",
       "      <th>24h_volume</th>\n",
       "      <th>mkt_cap</th>\n",
       "      <th>date</th>\n",
       "    </tr>\n",
       "  </thead>\n",
       "  <tbody>\n",
       "    <tr>\n",
       "      <th>0</th>\n",
       "      <td>Bitcoin</td>\n",
       "      <td>BTC</td>\n",
       "      <td>40859.460000</td>\n",
       "      <td>0.022</td>\n",
       "      <td>0.030</td>\n",
       "      <td>0.055</td>\n",
       "      <td>3.539076e+10</td>\n",
       "      <td>7.709915e+11</td>\n",
       "      <td>2022-03-16</td>\n",
       "    </tr>\n",
       "    <tr>\n",
       "      <th>1</th>\n",
       "      <td>Ethereum</td>\n",
       "      <td>ETH</td>\n",
       "      <td>2744.410000</td>\n",
       "      <td>0.024</td>\n",
       "      <td>0.034</td>\n",
       "      <td>0.065</td>\n",
       "      <td>1.974870e+10</td>\n",
       "      <td>3.271044e+11</td>\n",
       "      <td>2022-03-16</td>\n",
       "    </tr>\n",
       "    <tr>\n",
       "      <th>2</th>\n",
       "      <td>Tether</td>\n",
       "      <td>USDT</td>\n",
       "      <td>1.000000</td>\n",
       "      <td>-0.001</td>\n",
       "      <td>-0.001</td>\n",
       "      <td>0.000</td>\n",
       "      <td>5.793497e+10</td>\n",
       "      <td>7.996516e+10</td>\n",
       "      <td>2022-03-16</td>\n",
       "    </tr>\n",
       "    <tr>\n",
       "      <th>3</th>\n",
       "      <td>BNB</td>\n",
       "      <td>BNB</td>\n",
       "      <td>383.430000</td>\n",
       "      <td>0.018</td>\n",
       "      <td>0.028</td>\n",
       "      <td>0.004</td>\n",
       "      <td>1.395854e+09</td>\n",
       "      <td>6.404382e+10</td>\n",
       "      <td>2022-03-16</td>\n",
       "    </tr>\n",
       "    <tr>\n",
       "      <th>4</th>\n",
       "      <td>USD Coin</td>\n",
       "      <td>USDC</td>\n",
       "      <td>0.999874</td>\n",
       "      <td>-0.001</td>\n",
       "      <td>0.000</td>\n",
       "      <td>-0.000</td>\n",
       "      <td>3.872274e+09</td>\n",
       "      <td>5.222214e+10</td>\n",
       "      <td>2022-03-16</td>\n",
       "    </tr>\n",
       "  </tbody>\n",
       "</table>\n",
       "</div>"
      ],
      "text/plain": [
       "       coin symbol         price     1h    24h     7d    24h_volume  \\\n",
       "0   Bitcoin    BTC  40859.460000  0.022  0.030  0.055  3.539076e+10   \n",
       "1  Ethereum    ETH   2744.410000  0.024  0.034  0.065  1.974870e+10   \n",
       "2    Tether   USDT      1.000000 -0.001 -0.001  0.000  5.793497e+10   \n",
       "3       BNB    BNB    383.430000  0.018  0.028  0.004  1.395854e+09   \n",
       "4  USD Coin   USDC      0.999874 -0.001  0.000 -0.000  3.872274e+09   \n",
       "\n",
       "        mkt_cap       date  \n",
       "0  7.709915e+11 2022-03-16  \n",
       "1  3.271044e+11 2022-03-16  \n",
       "2  7.996516e+10 2022-03-16  \n",
       "3  6.404382e+10 2022-03-16  \n",
       "4  5.222214e+10 2022-03-16  "
      ]
     },
     "execution_count": 18,
     "metadata": {},
     "output_type": "execute_result"
    }
   ],
   "source": [
    "df.head()"
   ]
  },
  {
   "cell_type": "code",
   "execution_count": 19,
   "id": "f9954445",
   "metadata": {},
   "outputs": [
    {
     "data": {
      "text/plain": [
       "array(['BTC', 'ETH', 'USDT', 'BNB', 'USDC', 'XRP', 'LUNA', 'SOL', 'ADA',\n",
       "       'DOT', 'AVAX', 'BUSD', 'DOGE', 'UST', 'SHIB', 'WBTC', 'CRO',\n",
       "       'MATIC', 'DAI', 'ATOM', 'LTC', 'STETH', 'NEAR', 'LINK', 'TRX',\n",
       "       'FTT', 'BCH', 'LEO', 'OKB', 'ALGO', 'XLM', 'UNI', 'HBAR', 'AXS',\n",
       "       'MANA', 'ETC', 'EGLD', 'SAND', 'ICP', 'XMR', 'CETH', 'VET', 'FTM',\n",
       "       'FIL', 'OSMO', 'KLAY', 'FRAX', 'WAVES', 'THETA', 'MIM', 'GRT',\n",
       "       'XTZ', 'CUSDC', 'HNT', 'RUNE', 'EOS', 'OMI', 'MIOTA', 'CDAI',\n",
       "       'FLOW', 'TFUEL', 'AAVE', 'ZEC', 'MKR', 'JUNO', 'GALA', 'BTT', 'AR',\n",
       "       'HBTC', 'CAKE', 'QNT', 'ONE', 'XEC', 'BSV', 'NEO', 'TUSD', 'HT',\n",
       "       'KCS', 'CEL', 'STX', 'HEART', 'ENJ', 'BAT', 'NEXO', 'AMP', 'XRD',\n",
       "       'KSM', 'CELO', 'KDA', 'CHZ', 'DASH', 'FXS', 'USDP', 'BIT', 'GT',\n",
       "       'CVX', 'SNX', 'XIDO', 'LRC', 'XEM', 'ANC', 'ROSE', 'CRV', 'DCR',\n",
       "       'CUSDT', 'SCRT', 'LN', 'MINA', 'HOT', 'COMP', 'IOTX', 'KUB',\n",
       "       'USDN', 'YFI', 'NXM', 'XDC', '1INCH', 'WAXP', 'SLP', 'QTUM',\n",
       "       'PAXG', 'SUSHI', 'RENBTC', 'LPT', 'ANKR', 'BNT', 'POKT', 'MSOL',\n",
       "       'OMG', 'ZIL', 'SFM', 'RNDR', 'FEI', 'GNO', 'ICX', 'RVN', 'IOST',\n",
       "       'BTG', 'KAVA', 'UMA', 'OKT', 'SGB', 'EXRD', 'VLX', 'RPL', 'XAUT',\n",
       "       'GLMR', 'SAPP', 'ZEN', 'WOO', 'LUSD', 'GLM', 'RLY', 'BABYDOGE',\n",
       "       'AUDIO', 'SC', 'METIS', 'ONT', 'ZRX', 'NFT', 'SKL', 'CHSB', 'DYDX',\n",
       "       'ELON', 'OHM', 'DAG', 'SYN', 'IMX', 'CVXCRV', 'DOME', 'GUSD',\n",
       "       'JST', 'DESO', 'POLY', 'NU', 'REN', 'KEEP', 'ILV', 'FLUX', 'ENS',\n",
       "       'HIVE', 'LDO', 'GMT', 'SPELL', 'CKB', 'KNC', 'FLEX', 'HUSD', 'UOS',\n",
       "       'PEOPLE', 'LOOKS', 'JEWEL', 'TEL', 'TOMB', 'STARS', 'DGB', 'XDB',\n",
       "       'SYS', 'LSK', 'TOKE', 'XNO', '10SET', 'PLA', 'SAFEMOON', 'RON',\n",
       "       'XPRT', 'RACA', 'ARRR', 'MIMATIC', 'CSPR', 'EVER', 'SXP', 'FLOKI',\n",
       "       'ZNN', 'INJ', 'MXC', 'WIN', 'WRX', 'PERP', 'MBOX', 'ASTRO', 'TWT',\n",
       "       'SRM', 'C98', 'MIR', 'ZMT', 'TRIBE', 'VVS', 'HERO', 'CTC', 'STSOL',\n",
       "       'API3', 'ELG', 'FX', 'RAY', 'CET', 'EURT', 'FET', 'DENT', 'XCH',\n",
       "       'SNT', 'POWR', 'MED', 'XSUSHI', 'CHR', 'YGG', 'TLOS', 'COTI',\n",
       "       'ALUSD', 'CELR', 'ORBS', 'PYR', 'EWT', 'ASTR', 'OGN', 'CRTS',\n",
       "       'OCEAN', 'XYO', 'DPX', 'PLEX', 'LYXE', 'DAO', 'BOBA', 'MDX', 'UFO',\n",
       "       'ARDR', 'PUNDIX', 'MASK', 'KNCL', 'IBBTC', 'XCM', 'MX', 'RSR',\n",
       "       'RAD', 'CFX', 'TIME', 'XSGD', 'MLK', 'CVC', 'UBT', 'ANT', 'YOSHI',\n",
       "       'SUPER', 'DIVI', 'BTSE', 'GMX', 'REQ', 'MULTI', 'ERG', 'RGT',\n",
       "       'FEG', 'ACH', 'NMR', 'PRCH', 'MOVR', 'SBTC', 'CTSI', 'JOE', 'VERI',\n",
       "       'BFC', 'SURE', 'AURORA', 'ASD', 'REEF', 'WMT', 'MNGO', 'BDX',\n",
       "       'PLT', 'BICO', 'KOGE', 'ION', 'MMF', 'OUSD', 'XVG', 'KISHU',\n",
       "       'BAND', 'TON', 'STORJ', 'VTHO', 'USDX', 'TRAC', 'MC', 'ELF', 'AKT',\n",
       "       'GPX', 'STARL', 'NPXS', 'ACA', 'OXT', 'BETA', 'ARK', 'EURS',\n",
       "       'MAGIC', 'KP3R', 'POLS', 'HXRO', 'FLEXUSD', 'BEZOGE', 'MAID',\n",
       "       'PROM', 'IBEUR', 'META', 'SPA', 'RLC', 'DUSK', 'DEP', 'STMX',\n",
       "       'RMRK', 'QRDO', 'STRAX', 'STPT', 'STEEM', 'ALPHA', 'NKN', 'RIF',\n",
       "       'BAL', 'DAWN', 'GXC', 'SUN', 'DERO', 'KIRO', 'TLM', 'STRK', 'GHST',\n",
       "       'VR', 'AETHC', 'DG', 'MSHARE', 'FUN', 'TRU', 'AGEUR', 'SETH2',\n",
       "       'MPL', 'BOO', 'AIOZ', 'TSHARE', 'BIFI', 'TITAN', 'SOUL', 'TORN',\n",
       "       'ALCX', 'DODO', 'HOO', 'BTCST', 'KAI', 'KLV', 'ORN', 'SAVAX',\n",
       "       'LAT', 'HTR', 'SWP', 'XPR', 'UTK', 'REGEN', 'ALICE', 'BAKE', 'QKC',\n",
       "       'HYDRA', 'TOMO', 'MINE', 'EPS', 'XVS', 'RAIL', 'SFUND', 'HEZ',\n",
       "       'ALPINE', 'ICHI', 'JASMY', 'C20', 'XDG', 'MTL', 'WILD', 'WCFG',\n",
       "       'BCD', 'CBAT', 'SUSD', 'SETH', 'AUCTION', 'REP', 'VRA', 'NSBT',\n",
       "       'PTP', 'AMPL', 'WAN', 'IDEX', 'RDPX', 'IQ', 'ZPAY', 'ETN', 'ROOK',\n",
       "       'CUNI', 'DVI', 'ALBT', 'FIDA', 'AGLD', 'XAVA', 'HUNT', 'ATA',\n",
       "       'BANANA', 'CUSD', 'CTK', 'ADS', 'YFII', 'GFARM2', 'GTC', 'BSW',\n",
       "       'CLV', 'SFP', 'MLN', 'CRA', 'CQT', 'AERGO', 'NRV', 'BZZ', 'QI',\n",
       "       'CUBE', 'RAI', 'PEAK', 'PRO', 'AURY', 'MUSD', 'BZRX', 'FOX',\n",
       "       'AGIX', 'HNS', 'KIN', 'ATOLO', 'VADER', 'DPI', 'SAI', 'SOV',\n",
       "       'BADGER', 'TEMPLE', 'WNXM', 'MFT', 'DOCK', 'EROWAN', 'TREEB',\n",
       "       'PRE', 'PLTC', 'LEND', 'SHR', 'COVAL', 'AVA', 'BTRFLY', 'IRIS',\n",
       "       'PCX', 'ETH2X-FLI', 'CORE', 'TT', 'SOS', 'CRE', 'ARPA', 'GF',\n",
       "       'RISE', 'RARE', 'OXY', 'APE', 'CDT', 'MAPS', 'NTVRK', 'LOOMOLD',\n",
       "       'VRSC'], dtype=object)"
      ]
     },
     "execution_count": 19,
     "metadata": {},
     "output_type": "execute_result"
    }
   ],
   "source": [
    "df['symbol'].unique()\n"
   ]
  },
  {
   "cell_type": "code",
   "execution_count": 20,
   "id": "8ab5608a",
   "metadata": {},
   "outputs": [
    {
     "data": {
      "text/plain": [
       "506"
      ]
     },
     "execution_count": 20,
     "metadata": {},
     "output_type": "execute_result"
    }
   ],
   "source": [
    "df[\"coin\"].nunique()"
   ]
  },
  {
   "cell_type": "code",
   "execution_count": 21,
   "id": "80e82b6a",
   "metadata": {},
   "outputs": [
    {
     "data": {
      "text/plain": [
       "<Axes: xlabel='date', ylabel='price'>"
      ]
     },
     "execution_count": 21,
     "metadata": {},
     "output_type": "execute_result"
    },
    {
     "data": {
      "image/png": "[encoded data removed]",
      "text/plain": [
       "<Figure size 640x480 with 1 Axes>"
      ]
     },
     "metadata": {},
     "output_type": "display_data"
    }
   ],
   "source": [
    "sns.barplot(data = df, x = df.date.dt.day, y =  df.price\t)"
   ]
  },
  {
   "cell_type": "markdown",
   "id": "7c3cff33",
   "metadata": {},
   "source": [
    "### Multivariate Analysis"
   ]
  },
  {
   "cell_type": "markdown",
   "id": "8f9f282c",
   "metadata": {},
   "source": [
    "* Multivariate analysis is the analysis of more than one variable."
   ]
  },
  {
   "cell_type": "markdown",
   "id": "7762636c",
   "metadata": {},
   "source": [
    "### Check Multicollinearity in Numerical features"
   ]
  },
  {
   "cell_type": "code",
   "execution_count": 22,
   "id": "d77fa28f",
   "metadata": {},
   "outputs": [
    {
     "data": {
      "image/png": "[encoded data removed]",
      "text/plain": [
       "<Figure size 1000x1000 with 2 Axes>"
      ]
     },
     "metadata": {},
     "output_type": "display_data"
    }
   ],
   "source": [
    "plt.figure(figsize = (10,10))\n",
    "num_features = numeric_features.copy()\n",
    "\n",
    "sns.heatmap(df[num_features].corr(), annot=True, cmap=\"YlGnBu\")\n",
    "plt.show()"
   ]
  },
  {
   "cell_type": "markdown",
   "id": "5a12a424",
   "metadata": {},
   "source": [
    "**let's check the correlation in vif now**     \n",
    "    \n",
    "**We can see that 1h , 24h , 7d , 24h_volume does has some null values. Let's first input those values**"
   ]
  },
  {
   "cell_type": "code",
   "execution_count": 23,
   "id": "190bb445",
   "metadata": {},
   "outputs": [
    {
     "data": {
      "text/html": [
       "<div>\n",
       "<style scoped>\n",
       "    .dataframe tbody tr th:only-of-type {\n",
       "        vertical-align: middle;\n",
       "    }\n",
       "\n",
       "    .dataframe tbody tr th {\n",
       "        vertical-align: top;\n",
       "    }\n",
       "\n",
       "    .dataframe thead th {\n",
       "        text-align: right;\n",
       "    }\n",
       "</style>\n",
       "<table border=\"1\" class=\"dataframe\">\n",
       "  <thead>\n",
       "    <tr style=\"text-align: right;\">\n",
       "      <th></th>\n",
       "      <th>coin</th>\n",
       "      <th>symbol</th>\n",
       "      <th>price</th>\n",
       "      <th>1h</th>\n",
       "      <th>24h</th>\n",
       "      <th>7d</th>\n",
       "      <th>24h_volume</th>\n",
       "      <th>mkt_cap</th>\n",
       "      <th>date</th>\n",
       "    </tr>\n",
       "  </thead>\n",
       "  <tbody>\n",
       "    <tr>\n",
       "      <th>0</th>\n",
       "      <td>Bitcoin</td>\n",
       "      <td>BTC</td>\n",
       "      <td>40859.460000</td>\n",
       "      <td>0.022</td>\n",
       "      <td>0.030</td>\n",
       "      <td>0.055</td>\n",
       "      <td>3.539076e+10</td>\n",
       "      <td>7.709915e+11</td>\n",
       "      <td>2022-03-16</td>\n",
       "    </tr>\n",
       "    <tr>\n",
       "      <th>1</th>\n",
       "      <td>Ethereum</td>\n",
       "      <td>ETH</td>\n",
       "      <td>2744.410000</td>\n",
       "      <td>0.024</td>\n",
       "      <td>0.034</td>\n",
       "      <td>0.065</td>\n",
       "      <td>1.974870e+10</td>\n",
       "      <td>3.271044e+11</td>\n",
       "      <td>2022-03-16</td>\n",
       "    </tr>\n",
       "    <tr>\n",
       "      <th>2</th>\n",
       "      <td>Tether</td>\n",
       "      <td>USDT</td>\n",
       "      <td>1.000000</td>\n",
       "      <td>-0.001</td>\n",
       "      <td>-0.001</td>\n",
       "      <td>0.000</td>\n",
       "      <td>5.793497e+10</td>\n",
       "      <td>7.996516e+10</td>\n",
       "      <td>2022-03-16</td>\n",
       "    </tr>\n",
       "    <tr>\n",
       "      <th>3</th>\n",
       "      <td>BNB</td>\n",
       "      <td>BNB</td>\n",
       "      <td>383.430000</td>\n",
       "      <td>0.018</td>\n",
       "      <td>0.028</td>\n",
       "      <td>0.004</td>\n",
       "      <td>1.395854e+09</td>\n",
       "      <td>6.404382e+10</td>\n",
       "      <td>2022-03-16</td>\n",
       "    </tr>\n",
       "    <tr>\n",
       "      <th>4</th>\n",
       "      <td>USD Coin</td>\n",
       "      <td>USDC</td>\n",
       "      <td>0.999874</td>\n",
       "      <td>-0.001</td>\n",
       "      <td>0.000</td>\n",
       "      <td>-0.000</td>\n",
       "      <td>3.872274e+09</td>\n",
       "      <td>5.222214e+10</td>\n",
       "      <td>2022-03-16</td>\n",
       "    </tr>\n",
       "    <tr>\n",
       "      <th>...</th>\n",
       "      <td>...</td>\n",
       "      <td>...</td>\n",
       "      <td>...</td>\n",
       "      <td>...</td>\n",
       "      <td>...</td>\n",
       "      <td>...</td>\n",
       "      <td>...</td>\n",
       "      <td>...</td>\n",
       "      <td>...</td>\n",
       "    </tr>\n",
       "    <tr>\n",
       "      <th>995</th>\n",
       "      <td>IRISnet</td>\n",
       "      <td>IRIS</td>\n",
       "      <td>0.055426</td>\n",
       "      <td>0.016</td>\n",
       "      <td>-0.003</td>\n",
       "      <td>-0.088</td>\n",
       "      <td>2.976839e+06</td>\n",
       "      <td>6.809024e+07</td>\n",
       "      <td>2022-03-17</td>\n",
       "    </tr>\n",
       "    <tr>\n",
       "      <th>996</th>\n",
       "      <td>Circuits of Value</td>\n",
       "      <td>COVAL</td>\n",
       "      <td>0.037961</td>\n",
       "      <td>0.002</td>\n",
       "      <td>-0.012</td>\n",
       "      <td>-0.054</td>\n",
       "      <td>3.667870e+05</td>\n",
       "      <td>6.782627e+07</td>\n",
       "      <td>2022-03-17</td>\n",
       "    </tr>\n",
       "    <tr>\n",
       "      <th>997</th>\n",
       "      <td>ARPA Chain</td>\n",
       "      <td>ARPA</td>\n",
       "      <td>0.069003</td>\n",
       "      <td>-0.000</td>\n",
       "      <td>0.008</td>\n",
       "      <td>-0.037</td>\n",
       "      <td>1.363376e+07</td>\n",
       "      <td>6.776284e+07</td>\n",
       "      <td>2022-03-17</td>\n",
       "    </tr>\n",
       "    <tr>\n",
       "      <th>998</th>\n",
       "      <td>SuperRare</td>\n",
       "      <td>RARE</td>\n",
       "      <td>0.464613</td>\n",
       "      <td>-0.003</td>\n",
       "      <td>0.014</td>\n",
       "      <td>0.019</td>\n",
       "      <td>9.398219e+06</td>\n",
       "      <td>6.738822e+07</td>\n",
       "      <td>2022-03-17</td>\n",
       "    </tr>\n",
       "    <tr>\n",
       "      <th>999</th>\n",
       "      <td>Verus Coin</td>\n",
       "      <td>VRSC</td>\n",
       "      <td>0.999387</td>\n",
       "      <td>0.053</td>\n",
       "      <td>0.061</td>\n",
       "      <td>-0.122</td>\n",
       "      <td>2.027507e+04</td>\n",
       "      <td>6.731896e+07</td>\n",
       "      <td>2022-03-17</td>\n",
       "    </tr>\n",
       "  </tbody>\n",
       "</table>\n",
       "<p>1000 rows × 9 columns</p>\n",
       "</div>"
      ],
      "text/plain": [
       "                  coin symbol         price     1h    24h     7d  \\\n",
       "0              Bitcoin    BTC  40859.460000  0.022  0.030  0.055   \n",
       "1             Ethereum    ETH   2744.410000  0.024  0.034  0.065   \n",
       "2               Tether   USDT      1.000000 -0.001 -0.001  0.000   \n",
       "3                  BNB    BNB    383.430000  0.018  0.028  0.004   \n",
       "4             USD Coin   USDC      0.999874 -0.001  0.000 -0.000   \n",
       "..                 ...    ...           ...    ...    ...    ...   \n",
       "995            IRISnet   IRIS      0.055426  0.016 -0.003 -0.088   \n",
       "996  Circuits of Value  COVAL      0.037961  0.002 -0.012 -0.054   \n",
       "997         ARPA Chain   ARPA      0.069003 -0.000  0.008 -0.037   \n",
       "998          SuperRare   RARE      0.464613 -0.003  0.014  0.019   \n",
       "999         Verus Coin   VRSC      0.999387  0.053  0.061 -0.122   \n",
       "\n",
       "       24h_volume       mkt_cap       date  \n",
       "0    3.539076e+10  7.709915e+11 2022-03-16  \n",
       "1    1.974870e+10  3.271044e+11 2022-03-16  \n",
       "2    5.793497e+10  7.996516e+10 2022-03-16  \n",
       "3    1.395854e+09  6.404382e+10 2022-03-16  \n",
       "4    3.872274e+09  5.222214e+10 2022-03-16  \n",
       "..            ...           ...        ...  \n",
       "995  2.976839e+06  6.809024e+07 2022-03-17  \n",
       "996  3.667870e+05  6.782627e+07 2022-03-17  \n",
       "997  1.363376e+07  6.776284e+07 2022-03-17  \n",
       "998  9.398219e+06  6.738822e+07 2022-03-17  \n",
       "999  2.027507e+04  6.731896e+07 2022-03-17  \n",
       "\n",
       "[1000 rows x 9 columns]"
      ]
     },
     "execution_count": 23,
     "metadata": {},
     "output_type": "execute_result"
    }
   ],
   "source": [
    "df"
   ]
  },
  {
   "cell_type": "code",
   "execution_count": 24,
   "id": "25645ea9",
   "metadata": {},
   "outputs": [],
   "source": [
    "#let's fill null values \n",
    "\n",
    "df[\"1h\"].fillna(df[\"1h\"].median(), inplace=True)\n",
    "df[\"24h\"].fillna(df[\"24h\"].median(), inplace=True)\n",
    "df[\"7d\"].fillna(df[\"7d\"].median(), inplace=True)\n"
   ]
  }
 ],
 "metadata": {
  "kernelspec": {
   "display_name": "base",
   "language": "python",
   "name": "python3"
  },
  "language_info": {
   "codemirror_mode": {
    "name": "ipython",
    "version": 3
   },
   "file_extension": ".py",
   "mimetype": "text/x-python",
   "name": "python",
   "nbconvert_exporter": "python",
   "pygments_lexer": "ipython3",
   "version": "3.12.7"
  }
 },
 "nbformat": 4,
 "nbformat_minor": 5
}
